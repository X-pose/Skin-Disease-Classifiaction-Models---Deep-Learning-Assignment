{
  "nbformat": 4,
  "nbformat_minor": 0,
  "metadata": {
    "colab": {
      "provenance": [],
      "gpuType": "A100"
    },
    "kernelspec": {
      "name": "python3",
      "display_name": "Python 3"
    },
    "language_info": {
      "name": "python"
    },
    "accelerator": "GPU"
  },
  "cells": [
    {
      "cell_type": "code",
      "execution_count": 14,
      "metadata": {
        "id": "9pxrTN7HHNLI"
      },
      "outputs": [],
      "source": [
        "from google.colab import drive, files\n",
        "import zipfile\n",
        "import tensorflow as tf\n",
        "from tensorflow.keras.preprocessing.image import ImageDataGenerator\n",
        "from tensorflow.keras.applications import ResNet50\n",
        "from tensorflow.keras.layers import Dense, Flatten, Dropout\n",
        "from tensorflow.keras.models import Model\n",
        "from tensorflow.keras.optimizers import Adam\n",
        "from tensorflow.keras.callbacks import EarlyStopping, ModelCheckpoint, LearningRateScheduler\n",
        "from sklearn.metrics import f1_score, classification_report\n",
        "import matplotlib.pyplot as plt\n",
        "import numpy as np\n",
        "import pandas as pd"
      ]
    },
    {
      "cell_type": "code",
      "source": [
        "drive.mount('/content/drive')"
      ],
      "metadata": {
        "colab": {
          "base_uri": "https://localhost:8080/"
        },
        "id": "cFTHjVqGnu_a",
        "outputId": "c832f7d7-046c-463b-98a2-30bf45dacad0"
      },
      "execution_count": 15,
      "outputs": [
        {
          "output_type": "stream",
          "name": "stdout",
          "text": [
            "Drive already mounted at /content/drive; to attempt to forcibly remount, call drive.mount(\"/content/drive\", force_remount=True).\n"
          ]
        }
      ]
    },
    {
      "cell_type": "code",
      "source": [
        "zip_path = '/content/drive/My Drive/Skin Disease.v1i.multiclass.zip'\n",
        "with zipfile.ZipFile(zip_path, 'r') as zip_ref:\n",
        "    zip_ref.extractall('/content')"
      ],
      "metadata": {
        "id": "hRdlnTb3n2Wq"
      },
      "execution_count": 16,
      "outputs": []
    },
    {
      "cell_type": "code",
      "source": [
        "train_df = pd.read_csv('/content/train/_classes.csv')\n",
        "test_df = pd.read_csv('/content/test/_classes.csv')\n",
        "train_dir = '/content/train'\n",
        "test_dir = '/content/test'"
      ],
      "metadata": {
        "id": "S-PFUR4sn4wK"
      },
      "execution_count": 19,
      "outputs": []
    },
    {
      "cell_type": "code",
      "source": [
        "train_datagen = ImageDataGenerator(\n",
        "    rescale=1./255,\n",
        "    rotation_range=20,\n",
        "    zoom_range=0.2,\n",
        "    horizontal_flip=True\n",
        ")\n",
        "\n",
        "test_datagen = ImageDataGenerator(rescale=1./255)\n",
        "\n",
        "train_generator = train_datagen.flow_from_dataframe(\n",
        "    train_df,\n",
        "    directory=train_dir,\n",
        "    x_col='filename',\n",
        "    y_col=train_df.columns[1:].tolist(),\n",
        "    target_size=(224, 224),\n",
        "    batch_size=32,\n",
        "    class_mode='raw'\n",
        ")\n",
        "\n",
        "test_generator = test_datagen.flow_from_dataframe(\n",
        "    test_df,\n",
        "    directory=test_dir,\n",
        "    x_col='filename',\n",
        "    y_col=test_df.columns[1:].tolist(),\n",
        "    target_size=(224, 224),\n",
        "    batch_size=32,\n",
        "    class_mode='raw',\n",
        "    shuffle=False\n",
        ")"
      ],
      "metadata": {
        "colab": {
          "base_uri": "https://localhost:8080/"
        },
        "id": "uGdi9T8an77a",
        "outputId": "f226a444-1661-4e83-c0e5-ee9dad23416f"
      },
      "execution_count": 20,
      "outputs": [
        {
          "output_type": "stream",
          "name": "stdout",
          "text": [
            "Found 4083 validated image filenames.\n",
            "Found 454 validated image filenames.\n"
          ]
        }
      ]
    },
    {
      "cell_type": "code",
      "source": [
        "base_model = ResNet50(weights='imagenet', include_top=False, input_shape=(224, 224, 3))\n",
        "base_model.trainable = False  # Freeze the base model layers initially"
      ],
      "metadata": {
        "id": "tuWDmHC6n_Hx"
      },
      "execution_count": 21,
      "outputs": []
    },
    {
      "cell_type": "code",
      "source": [
        "x = Flatten()(base_model.output)\n",
        "x = Dense(1024, activation='relu', kernel_regularizer=tf.keras.regularizers.l2(0.001))(x)\n",
        "x = Dropout(0.5)(x)\n",
        "predictions = Dense(17, activation='sigmoid')(x)  # 17 classes\n",
        "\n",
        "model = Model(inputs=base_model.input, outputs=predictions)"
      ],
      "metadata": {
        "id": "7N4OKHkZoCaZ"
      },
      "execution_count": 22,
      "outputs": []
    },
    {
      "cell_type": "code",
      "source": [
        "model.compile(optimizer=Adam(learning_rate=0.001), loss='binary_crossentropy',\n",
        "              metrics=['accuracy', tf.keras.metrics.TopKCategoricalAccuracy(k=5)])"
      ],
      "metadata": {
        "id": "ZDO1eOQ4oFQp"
      },
      "execution_count": 23,
      "outputs": []
    },
    {
      "cell_type": "code",
      "source": [
        "early_stopping = EarlyStopping(monitor='val_loss', patience=7, restore_best_weights=True)\n",
        "checkpoint = ModelCheckpoint('best_model.keras', monitor='val_loss', save_best_only=True)\n",
        "\n",
        "def lr_schedule(epoch, lr):\n",
        "    if epoch > 20:\n",
        "        return lr * 0.00001  # Reduce learning rate after 20 epochs\n",
        "    return lr\n",
        "\n",
        "lr_scheduler = LearningRateScheduler(lr_schedule)"
      ],
      "metadata": {
        "id": "iqQ6RpbIoJO5"
      },
      "execution_count": 24,
      "outputs": []
    },
    {
      "cell_type": "code",
      "source": [
        "history = model.fit(\n",
        "    train_generator,\n",
        "    validation_data=test_generator,\n",
        "    epochs=30,  # Train for 30 epochs\n",
        "    callbacks=[early_stopping, checkpoint, lr_scheduler]\n",
        ")"
      ],
      "metadata": {
        "colab": {
          "base_uri": "https://localhost:8080/"
        },
        "id": "YKCjOo82oOzh",
        "outputId": "50504ab1-19dc-4489-c81a-b999c1311bad"
      },
      "execution_count": 25,
      "outputs": [
        {
          "output_type": "stream",
          "name": "stdout",
          "text": [
            "Epoch 1/30\n"
          ]
        },
        {
          "output_type": "stream",
          "name": "stderr",
          "text": [
            "/usr/local/lib/python3.10/dist-packages/keras/src/trainers/data_adapters/py_dataset_adapter.py:121: UserWarning: Your `PyDataset` class should call `super().__init__(**kwargs)` in its constructor. `**kwargs` can include `workers`, `use_multiprocessing`, `max_queue_size`. Do not pass these arguments to `fit()`, as they will be ignored.\n",
            "  self._warn_if_super_not_called()\n"
          ]
        },
        {
          "output_type": "stream",
          "name": "stdout",
          "text": [
            "\u001b[1m128/128\u001b[0m \u001b[32m━━━━━━━━━━━━━━━━━━━━\u001b[0m\u001b[37m\u001b[0m \u001b[1m71s\u001b[0m 462ms/step - accuracy: 0.0505 - loss: 1.8347 - top_k_categorical_accuracy: 0.2830 - val_accuracy: 0.0066 - val_loss: 0.4277 - val_top_k_categorical_accuracy: 0.2555 - learning_rate: 0.0010\n",
            "Epoch 2/30\n",
            "\u001b[1m128/128\u001b[0m \u001b[32m━━━━━━━━━━━━━━━━━━━━\u001b[0m\u001b[37m\u001b[0m \u001b[1m55s\u001b[0m 407ms/step - accuracy: 0.0399 - loss: 0.4516 - top_k_categorical_accuracy: 0.2845 - val_accuracy: 0.0000e+00 - val_loss: 0.3977 - val_top_k_categorical_accuracy: 0.3524 - learning_rate: 0.0010\n",
            "Epoch 3/30\n",
            "\u001b[1m128/128\u001b[0m \u001b[32m━━━━━━━━━━━━━━━━━━━━\u001b[0m\u001b[37m\u001b[0m \u001b[1m55s\u001b[0m 408ms/step - accuracy: 0.0144 - loss: 0.4256 - top_k_categorical_accuracy: 0.2857 - val_accuracy: 0.0000e+00 - val_loss: 0.3825 - val_top_k_categorical_accuracy: 0.1322 - learning_rate: 0.0010\n",
            "Epoch 4/30\n",
            "\u001b[1m128/128\u001b[0m \u001b[32m━━━━━━━━━━━━━━━━━━━━\u001b[0m\u001b[37m\u001b[0m \u001b[1m55s\u001b[0m 409ms/step - accuracy: 5.2158e-05 - loss: 0.4102 - top_k_categorical_accuracy: 0.2152 - val_accuracy: 0.0000e+00 - val_loss: 0.3809 - val_top_k_categorical_accuracy: 0.3128 - learning_rate: 0.0010\n",
            "Epoch 5/30\n",
            "\u001b[1m128/128\u001b[0m \u001b[32m━━━━━━━━━━━━━━━━━━━━\u001b[0m\u001b[37m\u001b[0m \u001b[1m55s\u001b[0m 410ms/step - accuracy: 0.0000e+00 - loss: 0.4065 - top_k_categorical_accuracy: 0.2434 - val_accuracy: 0.0000e+00 - val_loss: 0.3729 - val_top_k_categorical_accuracy: 0.3392 - learning_rate: 0.0010\n",
            "Epoch 6/30\n",
            "\u001b[1m128/128\u001b[0m \u001b[32m━━━━━━━━━━━━━━━━━━━━\u001b[0m\u001b[37m\u001b[0m \u001b[1m61s\u001b[0m 422ms/step - accuracy: 0.0026 - loss: 0.3953 - top_k_categorical_accuracy: 0.3318 - val_accuracy: 0.0000e+00 - val_loss: 0.3698 - val_top_k_categorical_accuracy: 0.2048 - learning_rate: 0.0010\n",
            "Epoch 7/30\n",
            "\u001b[1m128/128\u001b[0m \u001b[32m━━━━━━━━━━━━━━━━━━━━\u001b[0m\u001b[37m\u001b[0m \u001b[1m55s\u001b[0m 411ms/step - accuracy: 0.0000e+00 - loss: 0.3931 - top_k_categorical_accuracy: 0.2256 - val_accuracy: 0.0000e+00 - val_loss: 0.3672 - val_top_k_categorical_accuracy: 0.3150 - learning_rate: 0.0010\n",
            "Epoch 8/30\n",
            "\u001b[1m128/128\u001b[0m \u001b[32m━━━━━━━━━━━━━━━━━━━━\u001b[0m\u001b[37m\u001b[0m \u001b[1m58s\u001b[0m 431ms/step - accuracy: 0.0012 - loss: 0.3910 - top_k_categorical_accuracy: 0.2367 - val_accuracy: 0.0000e+00 - val_loss: 0.3670 - val_top_k_categorical_accuracy: 0.2555 - learning_rate: 0.0010\n",
            "Epoch 9/30\n",
            "\u001b[1m128/128\u001b[0m \u001b[32m━━━━━━━━━━━━━━━━━━━━\u001b[0m\u001b[37m\u001b[0m \u001b[1m48s\u001b[0m 358ms/step - accuracy: 7.0076e-04 - loss: 0.3851 - top_k_categorical_accuracy: 0.3126 - val_accuracy: 0.0000e+00 - val_loss: 0.3711 - val_top_k_categorical_accuracy: 0.1189 - learning_rate: 0.0010\n",
            "Epoch 10/30\n",
            "\u001b[1m128/128\u001b[0m \u001b[32m━━━━━━━━━━━━━━━━━━━━\u001b[0m\u001b[37m\u001b[0m \u001b[1m55s\u001b[0m 408ms/step - accuracy: 8.4972e-04 - loss: 0.3832 - top_k_categorical_accuracy: 0.2553 - val_accuracy: 0.0000e+00 - val_loss: 0.3662 - val_top_k_categorical_accuracy: 0.2511 - learning_rate: 0.0010\n",
            "Epoch 11/30\n",
            "\u001b[1m128/128\u001b[0m \u001b[32m━━━━━━━━━━━━━━━━━━━━\u001b[0m\u001b[37m\u001b[0m \u001b[1m48s\u001b[0m 356ms/step - accuracy: 0.0010 - loss: 0.3836 - top_k_categorical_accuracy: 0.2350 - val_accuracy: 0.0000e+00 - val_loss: 0.3688 - val_top_k_categorical_accuracy: 0.3546 - learning_rate: 0.0010\n",
            "Epoch 12/30\n",
            "\u001b[1m128/128\u001b[0m \u001b[32m━━━━━━━━━━━━━━━━━━━━\u001b[0m\u001b[37m\u001b[0m \u001b[1m59s\u001b[0m 442ms/step - accuracy: 6.8562e-04 - loss: 0.3826 - top_k_categorical_accuracy: 0.2504 - val_accuracy: 0.0000e+00 - val_loss: 0.3638 - val_top_k_categorical_accuracy: 0.3348 - learning_rate: 0.0010\n",
            "Epoch 13/30\n",
            "\u001b[1m128/128\u001b[0m \u001b[32m━━━━━━━━━━━━━━━━━━━━\u001b[0m\u001b[37m\u001b[0m \u001b[1m48s\u001b[0m 357ms/step - accuracy: 2.9567e-04 - loss: 0.3798 - top_k_categorical_accuracy: 0.2829 - val_accuracy: 0.0000e+00 - val_loss: 0.3638 - val_top_k_categorical_accuracy: 0.2952 - learning_rate: 0.0010\n",
            "Epoch 14/30\n",
            "\u001b[1m128/128\u001b[0m \u001b[32m━━━━━━━━━━━━━━━━━━━━\u001b[0m\u001b[37m\u001b[0m \u001b[1m55s\u001b[0m 410ms/step - accuracy: 0.0000e+00 - loss: 0.3798 - top_k_categorical_accuracy: 0.2661 - val_accuracy: 0.0000e+00 - val_loss: 0.3635 - val_top_k_categorical_accuracy: 0.3744 - learning_rate: 0.0010\n",
            "Epoch 15/30\n",
            "\u001b[1m128/128\u001b[0m \u001b[32m━━━━━━━━━━━━━━━━━━━━\u001b[0m\u001b[37m\u001b[0m \u001b[1m48s\u001b[0m 354ms/step - accuracy: 0.0000e+00 - loss: 0.3754 - top_k_categorical_accuracy: 0.2783 - val_accuracy: 0.0000e+00 - val_loss: 0.3652 - val_top_k_categorical_accuracy: 0.3172 - learning_rate: 0.0010\n",
            "Epoch 16/30\n",
            "\u001b[1m128/128\u001b[0m \u001b[32m━━━━━━━━━━━━━━━━━━━━\u001b[0m\u001b[37m\u001b[0m \u001b[1m48s\u001b[0m 353ms/step - accuracy: 0.0013 - loss: 0.3744 - top_k_categorical_accuracy: 0.2911 - val_accuracy: 0.0000e+00 - val_loss: 0.3655 - val_top_k_categorical_accuracy: 0.2159 - learning_rate: 0.0010\n",
            "Epoch 17/30\n",
            "\u001b[1m128/128\u001b[0m \u001b[32m━━━━━━━━━━━━━━━━━━━━\u001b[0m\u001b[37m\u001b[0m \u001b[1m49s\u001b[0m 359ms/step - accuracy: 0.0000e+00 - loss: 0.3729 - top_k_categorical_accuracy: 0.2904 - val_accuracy: 0.0000e+00 - val_loss: 0.3641 - val_top_k_categorical_accuracy: 0.3348 - learning_rate: 0.0010\n",
            "Epoch 18/30\n",
            "\u001b[1m128/128\u001b[0m \u001b[32m━━━━━━━━━━━━━━━━━━━━\u001b[0m\u001b[37m\u001b[0m \u001b[1m49s\u001b[0m 361ms/step - accuracy: 0.0000e+00 - loss: 0.3739 - top_k_categorical_accuracy: 0.2537 - val_accuracy: 0.0000e+00 - val_loss: 0.3658 - val_top_k_categorical_accuracy: 0.2026 - learning_rate: 0.0010\n",
            "Epoch 19/30\n",
            "\u001b[1m128/128\u001b[0m \u001b[32m━━━━━━━━━━━━━━━━━━━━\u001b[0m\u001b[37m\u001b[0m \u001b[1m48s\u001b[0m 355ms/step - accuracy: 0.0019 - loss: 0.3708 - top_k_categorical_accuracy: 0.3137 - val_accuracy: 0.0000e+00 - val_loss: 0.3641 - val_top_k_categorical_accuracy: 0.2313 - learning_rate: 0.0010\n",
            "Epoch 20/30\n",
            "\u001b[1m128/128\u001b[0m \u001b[32m━━━━━━━━━━━━━━━━━━━━\u001b[0m\u001b[37m\u001b[0m \u001b[1m48s\u001b[0m 351ms/step - accuracy: 0.0000e+00 - loss: 0.3732 - top_k_categorical_accuracy: 0.2360 - val_accuracy: 0.0000e+00 - val_loss: 0.3654 - val_top_k_categorical_accuracy: 0.3172 - learning_rate: 0.0010\n",
            "Epoch 21/30\n",
            "\u001b[1m128/128\u001b[0m \u001b[32m━━━━━━━━━━━━━━━━━━━━\u001b[0m\u001b[37m\u001b[0m \u001b[1m49s\u001b[0m 360ms/step - accuracy: 0.0000e+00 - loss: 0.3718 - top_k_categorical_accuracy: 0.2713 - val_accuracy: 0.0000e+00 - val_loss: 0.3712 - val_top_k_categorical_accuracy: 0.3282 - learning_rate: 0.0010\n"
          ]
        }
      ]
    },
    {
      "cell_type": "code",
      "source": [
        "base_model.trainable = True  # Unfreeze the base model layers\n",
        "\n",
        "# Recompile the model with a lower learning rate for fine-tuning\n",
        "model.compile(optimizer=Adam(learning_rate=0.0001), loss='binary_crossentropy',\n",
        "              metrics=['accuracy', tf.keras.metrics.TopKCategoricalAccuracy(k=5)])\n",
        "\n",
        "# Fine-tune the model for an additional 10 epochs\n",
        "history_fine = model.fit(\n",
        "    train_generator,\n",
        "    validation_data=test_generator,\n",
        "    epochs=10,  # Fine-tune for 10 more epochs\n",
        "    callbacks=[early_stopping, checkpoint]\n",
        ")\n"
      ],
      "metadata": {
        "colab": {
          "base_uri": "https://localhost:8080/"
        },
        "id": "wl3CHSY4obxr",
        "outputId": "69d12e2e-c7d3-4090-f949-666426718d51"
      },
      "execution_count": 26,
      "outputs": [
        {
          "output_type": "stream",
          "name": "stdout",
          "text": [
            "Epoch 1/10\n",
            "\u001b[1m128/128\u001b[0m \u001b[32m━━━━━━━━━━━━━━━━━━━━\u001b[0m\u001b[37m\u001b[0m \u001b[1m123s\u001b[0m 542ms/step - accuracy: 0.2819 - loss: 0.2428 - top_k_categorical_accuracy: 0.7139 - val_accuracy: 0.0110 - val_loss: 0.9405 - val_top_k_categorical_accuracy: 0.2445\n",
            "Epoch 2/10\n",
            "\u001b[1m128/128\u001b[0m \u001b[32m━━━━━━━━━━━━━━━━━━━━\u001b[0m\u001b[37m\u001b[0m \u001b[1m48s\u001b[0m 358ms/step - accuracy: 0.5993 - loss: 0.0656 - top_k_categorical_accuracy: 0.9919 - val_accuracy: 0.1322 - val_loss: 1.1557 - val_top_k_categorical_accuracy: 0.2181\n",
            "Epoch 3/10\n",
            "\u001b[1m128/128\u001b[0m \u001b[32m━━━━━━━━━━━━━━━━━━━━\u001b[0m\u001b[37m\u001b[0m \u001b[1m48s\u001b[0m 356ms/step - accuracy: 0.6341 - loss: 0.0532 - top_k_categorical_accuracy: 0.9971 - val_accuracy: 0.0000e+00 - val_loss: 0.9074 - val_top_k_categorical_accuracy: 0.3348\n",
            "Epoch 4/10\n",
            "\u001b[1m128/128\u001b[0m \u001b[32m━━━━━━━━━━━━━━━━━━━━\u001b[0m\u001b[37m\u001b[0m \u001b[1m48s\u001b[0m 357ms/step - accuracy: 0.6567 - loss: 0.0450 - top_k_categorical_accuracy: 0.9979 - val_accuracy: 0.0000e+00 - val_loss: 1.4269 - val_top_k_categorical_accuracy: 0.2753\n",
            "Epoch 5/10\n",
            "\u001b[1m128/128\u001b[0m \u001b[32m━━━━━━━━━━━━━━━━━━━━\u001b[0m\u001b[37m\u001b[0m \u001b[1m48s\u001b[0m 355ms/step - accuracy: 0.7254 - loss: 0.0373 - top_k_categorical_accuracy: 0.9983 - val_accuracy: 0.0044 - val_loss: 2.1128 - val_top_k_categorical_accuracy: 0.3128\n",
            "Epoch 6/10\n",
            "\u001b[1m128/128\u001b[0m \u001b[32m━━━━━━━━━━━━━━━━━━━━\u001b[0m\u001b[37m\u001b[0m \u001b[1m48s\u001b[0m 358ms/step - accuracy: 0.7104 - loss: 0.0361 - top_k_categorical_accuracy: 0.9985 - val_accuracy: 0.1586 - val_loss: 0.8576 - val_top_k_categorical_accuracy: 0.6520\n",
            "Epoch 7/10\n",
            "\u001b[1m128/128\u001b[0m \u001b[32m━━━━━━━━━━━━━━━━━━━━\u001b[0m\u001b[37m\u001b[0m \u001b[1m58s\u001b[0m 436ms/step - accuracy: 0.7210 - loss: 0.0368 - top_k_categorical_accuracy: 0.9992 - val_accuracy: 0.4559 - val_loss: 0.2171 - val_top_k_categorical_accuracy: 0.9075\n",
            "Epoch 8/10\n",
            "\u001b[1m128/128\u001b[0m \u001b[32m━━━━━━━━━━━━━━━━━━━━\u001b[0m\u001b[37m\u001b[0m \u001b[1m57s\u001b[0m 422ms/step - accuracy: 0.7174 - loss: 0.0316 - top_k_categorical_accuracy: 0.9994 - val_accuracy: 0.6982 - val_loss: 0.0802 - val_top_k_categorical_accuracy: 0.9934\n",
            "Epoch 9/10\n",
            "\u001b[1m128/128\u001b[0m \u001b[32m━━━━━━━━━━━━━━━━━━━━\u001b[0m\u001b[37m\u001b[0m \u001b[1m57s\u001b[0m 426ms/step - accuracy: 0.6629 - loss: 0.0405 - top_k_categorical_accuracy: 0.9979 - val_accuracy: 0.7731 - val_loss: 0.0406 - val_top_k_categorical_accuracy: 0.9978\n",
            "Epoch 10/10\n",
            "\u001b[1m128/128\u001b[0m \u001b[32m━━━━━━━━━━━━━━━━━━━━\u001b[0m\u001b[37m\u001b[0m \u001b[1m48s\u001b[0m 357ms/step - accuracy: 0.6957 - loss: 0.0398 - top_k_categorical_accuracy: 0.9994 - val_accuracy: 0.7335 - val_loss: 0.0729 - val_top_k_categorical_accuracy: 0.9824\n"
          ]
        }
      ]
    },
    {
      "cell_type": "code",
      "source": [
        "plt.plot(history.history['loss'], label='Train Loss')\n",
        "plt.plot(history.history['val_loss'], label='Validation Loss')\n",
        "plt.title('Training and Validation Loss Over Epochs')\n",
        "plt.xlabel('Epochs')\n",
        "plt.ylabel('Loss')\n",
        "plt.legend()\n",
        "plt.grid(True)\n",
        "plt.show()"
      ],
      "metadata": {
        "colab": {
          "base_uri": "https://localhost:8080/",
          "height": 472
        },
        "id": "Kzvp70qSoe46",
        "outputId": "8129f91a-a9bd-46d2-9bdd-fa1a8273b986"
      },
      "execution_count": 27,
      "outputs": [
        {
          "output_type": "display_data",
          "data": {
            "text/plain": [
              "<Figure size 640x480 with 1 Axes>"
            ],
            "image/png": "[encoded data removed]"
          },
          "metadata": {}
        }
      ]
    },
    {
      "cell_type": "code",
      "source": [
        "model.load_weights('best_model.keras')\n",
        "test_loss, test_acc, top_k_acc = model.evaluate(test_generator)\n",
        "print(f'Test Loss: {test_loss}')\n",
        "print(f'Test Accuracy (Top-1): {test_acc}')\n",
        "print(f'Top-K Accuracy (Top-5): {top_k_acc}')"
      ],
      "metadata": {
        "colab": {
          "base_uri": "https://localhost:8080/"
        },
        "id": "apP8SgnsoiWL",
        "outputId": "0a7fc3d8-e906-43af-a678-7d676509c75d"
      },
      "execution_count": 28,
      "outputs": [
        {
          "output_type": "stream",
          "name": "stdout",
          "text": [
            "\u001b[1m15/15\u001b[0m \u001b[32m━━━━━━━━━━━━━━━━━━━━\u001b[0m\u001b[37m\u001b[0m \u001b[1m1s\u001b[0m 73ms/step - accuracy: 0.7526 - loss: 0.0378 - top_k_categorical_accuracy: 0.9996\n",
            "Test Loss: 0.04059066250920296\n",
            "Test Accuracy (Top-1): 0.7731277346611023\n",
            "Top-K Accuracy (Top-5): 0.9977973699569702\n"
          ]
        }
      ]
    },
    {
      "cell_type": "code",
      "source": [
        "y_true = test_generator.labels  # True labels for the test set\n",
        "y_pred_prob = model.predict(test_generator)\n",
        "y_pred = (y_pred_prob > 0.5).astype(int)  # Convert probabilities to binary values\n",
        "\n",
        "# Generate F1 score and classification report\n",
        "f1 = f1_score(y_true, y_pred, average='weighted')\n",
        "print(f\"F1 Score: {f1}\")\n",
        "\n",
        "report = classification_report(y_true, y_pred, target_names=[\n",
        "    \"Actinic\", \"Atopic\", \"Benign\", \"Candidiasis\", \"Dermatitis\", \"Dermatofibroma\",\n",
        "    \"Melanocytic\", \"Melanoma\", \"Ringworm\", \"Squamous\", \"Tinea\", \"Vascular\",\n",
        "    \"Carcinoma\", \"Cell\", \"Keratosis\", \"Lesion\", \"Nevus\"\n",
        "])\n",
        "print(report)"
      ],
      "metadata": {
        "colab": {
          "base_uri": "https://localhost:8080/"
        },
        "id": "bvMTiZ4iolMz",
        "outputId": "1a931baf-19e5-42ac-b89a-f2a85d7a540d"
      },
      "execution_count": 29,
      "outputs": [
        {
          "output_type": "stream",
          "name": "stdout",
          "text": [
            "\u001b[1m15/15\u001b[0m \u001b[32m━━━━━━━━━━━━━━━━━━━━\u001b[0m\u001b[37m\u001b[0m \u001b[1m7s\u001b[0m 291ms/step\n",
            "F1 Score: 0.9752454754929828\n",
            "                precision    recall  f1-score   support\n",
            "\n",
            "       Actinic       1.00      1.00      1.00        51\n",
            "        Atopic       1.00      1.00      1.00        45\n",
            "        Benign       1.00      0.98      0.99        56\n",
            "   Candidiasis       1.00      1.00      1.00        60\n",
            "    Dermatitis       1.00      1.00      1.00        45\n",
            "Dermatofibroma       0.98      0.93      0.95        54\n",
            "   Melanocytic       1.00      0.87      0.93        39\n",
            "      Melanoma       1.00      1.00      1.00        44\n",
            "      Ringworm       1.00      1.00      1.00        60\n",
            "      Squamous       1.00      0.85      0.92        54\n",
            "         Tinea       1.00      1.00      1.00        60\n",
            "      Vascular       1.00      1.00      1.00        51\n",
            "     Carcinoma       1.00      0.83      0.91        54\n",
            "          Cell       1.00      0.87      0.93        54\n",
            "     Keratosis       1.00      0.99      1.00       107\n",
            "        Lesion       0.96      1.00      0.98        51\n",
            "         Nevus       1.00      0.87      0.93        39\n",
            "\n",
            "     micro avg       1.00      0.96      0.98       924\n",
            "     macro avg       1.00      0.95      0.97       924\n",
            "  weighted avg       1.00      0.96      0.98       924\n",
            "   samples avg       0.96      0.96      0.96       924\n",
            "\n"
          ]
        },
        {
          "output_type": "stream",
          "name": "stderr",
          "text": [
            "/usr/local/lib/python3.10/dist-packages/sklearn/metrics/_classification.py:1531: UndefinedMetricWarning: Precision is ill-defined and being set to 0.0 in samples with no predicted labels. Use `zero_division` parameter to control this behavior.\n",
            "  _warn_prf(average, modifier, f\"{metric.capitalize()} is\", len(result))\n"
          ]
        }
      ]
    },
    {
      "cell_type": "code",
      "source": [
        "from google.colab import files\n",
        "uploaded = files.upload()\n",
        "\n",
        "# After uploading, the filename will be available in `uploaded.keys()`\n",
        "img_path = list(uploaded.keys())[0]"
      ],
      "metadata": {
        "colab": {
          "base_uri": "https://localhost:8080/",
          "height": 111
        },
        "id": "ft9ktsz-ooRD",
        "outputId": "9f26ec95-b03a-4d3a-95e8-0a826a689eb6"
      },
      "execution_count": 35,
      "outputs": [
        {
          "output_type": "display_data",
          "data": {
            "text/plain": [
              "<IPython.core.display.HTML object>"
            ],
            "text/html": [
              "\n",
              "     <input type=\"file\" id=\"files-858a89bb-e6f8-4462-a51a-de6cad286099\" name=\"files[]\" multiple disabled\n",
              "        style=\"border:none\" />\n",
              "     <output id=\"result-858a89bb-e6f8-4462-a51a-de6cad286099\">\n",
              "      Upload widget is only available when the cell has been executed in the\n",
              "      current browser session. Please rerun this cell to enable.\n",
              "      </output>\n",
              "      <script>// Copyright 2017 Google LLC\n",
              "//\n",
              "// Licensed under the Apache License, Version 2.0 (the \"License\");\n",
              "// you may not use this file except in compliance with the License.\n",
              "// You may obtain a copy of the License at\n",
              "//\n",
              "//      http://www.apache.org/licenses/LICENSE-2.0\n",
              "//\n",
              "// Unless required by applicable law or agreed to in writing, software\n",
              "// distributed under the License is distributed on an \"AS IS\" BASIS,\n",
              "// WITHOUT WARRANTIES OR CONDITIONS OF ANY KIND, either express or implied.\n",
              "// See the License for the specific language governing permissions and\n",
              "// limitations under the License.\n",
              "\n",
              "/**\n",
              " * @fileoverview Helpers for google.colab Python module.\n",
              " */\n",
              "(function(scope) {\n",
              "function span(text, styleAttributes = {}) {\n",
              "  const element = document.createElement('span');\n",
              "  element.textContent = text;\n",
              "  for (const key of Object.keys(styleAttributes)) {\n",
              "    element.style[key] = styleAttributes[key];\n",
              "  }\n",
              "  return element;\n",
              "}\n",
              "\n",
              "// Max number of bytes which will be uploaded at a time.\n",
              "const MAX_PAYLOAD_SIZE = 100 * 1024;\n",
              "\n",
              "function _uploadFiles(inputId, outputId) {\n",
              "  const steps = uploadFilesStep(inputId, outputId);\n",
              "  const outputElement = document.getElementById(outputId);\n",
              "  // Cache steps on the outputElement to make it available for the next call\n",
              "  // to uploadFilesContinue from Python.\n",
              "  outputElement.steps = steps;\n",
              "\n",
              "  return _uploadFilesContinue(outputId);\n",
              "}\n",
              "\n",
              "// This is roughly an async generator (not supported in the browser yet),\n",
              "// where there are multiple asynchronous steps and the Python side is going\n",
              "// to poll for completion of each step.\n",
              "// This uses a Promise to block the python side on completion of each step,\n",
              "// then passes the result of the previous step as the input to the next step.\n",
              "function _uploadFilesContinue(outputId) {\n",
              "  const outputElement = document.getElementById(outputId);\n",
              "  const steps = outputElement.steps;\n",
              "\n",
              "  const next = steps.next(outputElement.lastPromiseValue);\n",
              "  return Promise.resolve(next.value.promise).then((value) => {\n",
              "    // Cache the last promise value to make it available to the next\n",
              "    // step of the generator.\n",
              "    outputElement.lastPromiseValue = value;\n",
              "    return next.value.response;\n",
              "  });\n",
              "}\n",
              "\n",
              "/**\n",
              " * Generator function which is called between each async step of the upload\n",
              " * process.\n",
              " * @param {string} inputId Element ID of the input file picker element.\n",
              " * @param {string} outputId Element ID of the output display.\n",
              " * @return {!Iterable<!Object>} Iterable of next steps.\n",
              " */\n",
              "function* uploadFilesStep(inputId, outputId) {\n",
              "  const inputElement = document.getElementById(inputId);\n",
              "  inputElement.disabled = false;\n",
              "\n",
              "  const outputElement = document.getElementById(outputId);\n",
              "  outputElement.innerHTML = '';\n",
              "\n",
              "  const pickedPromise = new Promise((resolve) => {\n",
              "    inputElement.addEventListener('change', (e) => {\n",
              "      resolve(e.target.files);\n",
              "    });\n",
              "  });\n",
              "\n",
              "  const cancel = document.createElement('button');\n",
              "  inputElement.parentElement.appendChild(cancel);\n",
              "  cancel.textContent = 'Cancel upload';\n",
              "  const cancelPromise = new Promise((resolve) => {\n",
              "    cancel.onclick = () => {\n",
              "      resolve(null);\n",
              "    };\n",
              "  });\n",
              "\n",
              "  // Wait for the user to pick the files.\n",
              "  const files = yield {\n",
              "    promise: Promise.race([pickedPromise, cancelPromise]),\n",
              "    response: {\n",
              "      action: 'starting',\n",
              "    }\n",
              "  };\n",
              "\n",
              "  cancel.remove();\n",
              "\n",
              "  // Disable the input element since further picks are not allowed.\n",
              "  inputElement.disabled = true;\n",
              "\n",
              "  if (!files) {\n",
              "    return {\n",
              "      response: {\n",
              "        action: 'complete',\n",
              "      }\n",
              "    };\n",
              "  }\n",
              "\n",
              "  for (const file of files) {\n",
              "    const li = document.createElement('li');\n",
              "    li.append(span(file.name, {fontWeight: 'bold'}));\n",
              "    li.append(span(\n",
              "        `(${file.type || 'n/a'}) - ${file.size} bytes, ` +\n",
              "        `last modified: ${\n",
              "            file.lastModifiedDate ? file.lastModifiedDate.toLocaleDateString() :\n",
              "                                    'n/a'} - `));\n",
              "    const percent = span('0% done');\n",
              "    li.appendChild(percent);\n",
              "\n",
              "    outputElement.appendChild(li);\n",
              "\n",
              "    const fileDataPromise = new Promise((resolve) => {\n",
              "      const reader = new FileReader();\n",
              "      reader.onload = (e) => {\n",
              "        resolve(e.target.result);\n",
              "      };\n",
              "      reader.readAsArrayBuffer(file);\n",
              "    });\n",
              "    // Wait for the data to be ready.\n",
              "    let fileData = yield {\n",
              "      promise: fileDataPromise,\n",
              "      response: {\n",
              "        action: 'continue',\n",
              "      }\n",
              "    };\n",
              "\n",
              "    // Use a chunked sending to avoid message size limits. See b/62115660.\n",
              "    let position = 0;\n",
              "    do {\n",
              "      const length = Math.min(fileData.byteLength - position, MAX_PAYLOAD_SIZE);\n",
              "      const chunk = new Uint8Array(fileData, position, length);\n",
              "      position += length;\n",
              "\n",
              "      const base64 = btoa(String.fromCharCode.apply(null, chunk));\n",
              "      yield {\n",
              "        response: {\n",
              "          action: 'append',\n",
              "          file: file.name,\n",
              "          data: base64,\n",
              "        },\n",
              "      };\n",
              "\n",
              "      let percentDone = fileData.byteLength === 0 ?\n",
              "          100 :\n",
              "          Math.round((position / fileData.byteLength) * 100);\n",
              "      percent.textContent = `${percentDone}% done`;\n",
              "\n",
              "    } while (position < fileData.byteLength);\n",
              "  }\n",
              "\n",
              "  // All done.\n",
              "  yield {\n",
              "    response: {\n",
              "      action: 'complete',\n",
              "    }\n",
              "  };\n",
              "}\n",
              "\n",
              "scope.google = scope.google || {};\n",
              "scope.google.colab = scope.google.colab || {};\n",
              "scope.google.colab._files = {\n",
              "  _uploadFiles,\n",
              "  _uploadFilesContinue,\n",
              "};\n",
              "})(self);\n",
              "</script> "
            ]
          },
          "metadata": {}
        },
        {
          "output_type": "stream",
          "name": "stdout",
          "text": [
            "Saving dr_9_9199_jpg.rf.6123b1d256b4cd58044f4f1bbccb00ab.jpg to dr_9_9199_jpg.rf.6123b1d256b4cd58044f4f1bbccb00ab.jpg\n"
          ]
        }
      ]
    },
    {
      "cell_type": "code",
      "source": [
        "img_path = '/content/dr_9_9199_jpg.rf.6123b1d256b4cd58044f4f1bbccb00ab.jpg'"
      ],
      "metadata": {
        "id": "ggAubNw5Hi63"
      },
      "execution_count": 36,
      "outputs": []
    },
    {
      "cell_type": "code",
      "source": [
        "from tensorflow.keras.preprocessing import image\n",
        "import numpy as np\n",
        "\n",
        "# Replace this with the correct path to your image\n",
        "img = image.load_img(img_path, target_size=(224, 224))\n",
        "img_array = image.img_to_array(img)\n",
        "img_array = np.expand_dims(img_array, axis=0)  # Expand to match batch size\n",
        "img_array /= 255.  # Rescale the image\n",
        "\n",
        "# Make predictions\n",
        "predictions = model.predict(img_array)\n",
        "print(predictions)  # This will return the probabilities for each class\n"
      ],
      "metadata": {
        "colab": {
          "base_uri": "https://localhost:8080/"
        },
        "id": "8J2e7x3YHnBy",
        "outputId": "0c668746-4b50-4e10-e502-a0ebd72be90d"
      },
      "execution_count": 37,
      "outputs": [
        {
          "output_type": "stream",
          "name": "stdout",
          "text": [
            "\u001b[1m1/1\u001b[0m \u001b[32m━━━━━━━━━━━━━━━━━━━━\u001b[0m\u001b[37m\u001b[0m \u001b[1m0s\u001b[0m 27ms/step\n",
            "[[3.5185683e-05 7.1414094e-03 2.7708456e-06 2.7251261e-05 2.3307344e-02\n",
            "  2.1027609e-04 9.9310098e-05 5.1174815e-05 5.9084696e-06 1.0603532e-04\n",
            "  4.6538175e-05 9.9927408e-01 3.8922313e-05 1.2329318e-04 2.8002983e-06\n",
            "  9.9777120e-01 7.0542167e-04]]\n"
          ]
        }
      ]
    },
    {
      "cell_type": "code",
      "source": [
        "predicted_class = np.argmax(predictions, axis=1)\n",
        "print(f\"Predicted class: {predicted_class}\")\n",
        "\n",
        "class_labels = [\n",
        "    \"Actinic\", \"Atopic\", \"Benign\", \"Candidiasis\", \"Dermatitis\", \"Dermatofibroma\",\n",
        "    \"Melanocytic\", \"Melanoma\", \"Ringworm\", \"Squamous\", \"Tinea\", \"Vascular\",\n",
        "    \"Carcinoma\", \"Cell\", \"Keratosis\", \"Lesion\", \"Nevus\"\n",
        "]\n",
        "predicted_class = np.argmax(predictions, axis=1)\n",
        "predicted_class_name = class_labels[predicted_class[0]]  # Assuming batch size is 1\n",
        "\n",
        "print(f\"Predicted class: {predicted_class_name}\")\n"
      ],
      "metadata": {
        "colab": {
          "base_uri": "https://localhost:8080/"
        },
        "id": "-2e_Y8NPHqb4",
        "outputId": "9d18e58a-ebbb-40cd-f20d-a274d2dd85fb"
      },
      "execution_count": 38,
      "outputs": [
        {
          "output_type": "stream",
          "name": "stdout",
          "text": [
            "Predicted class: [11]\n",
            "Predicted class: Vascular\n"
          ]
        }
      ]
    },
    {
      "cell_type": "code",
      "source": [
        "# Save the model after training/fine-tuning\n",
        "model.save('skin_disease_classifier.h5')\n"
      ],
      "metadata": {
        "colab": {
          "base_uri": "https://localhost:8080/"
        },
        "id": "NFt7nKeWISvY",
        "outputId": "033b678c-ba8e-4360-a4bc-2bd301cdf04a"
      },
      "execution_count": 40,
      "outputs": [
        {
          "output_type": "stream",
          "name": "stderr",
          "text": [
            "WARNING:absl:You are saving your model as an HDF5 file via `model.save()` or `keras.saving.save_model(model)`. This file format is considered legacy. We recommend using instead the native Keras format, e.g. `model.save('my_model.keras')` or `keras.saving.save_model(model, 'my_model.keras')`. \n"
          ]
        }
      ]
    }
  ]
}