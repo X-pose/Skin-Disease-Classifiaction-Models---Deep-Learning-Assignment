{
  "nbformat": 4,
  "nbformat_minor": 0,
  "metadata": {
    "colab": {
      "provenance": [],
      "gpuType": "T4",
      "authorship_tag": "ABX9TyM+M/EAlhk5yrRB0bV0hzlH",
      "include_colab_link": true
    },
    "kernelspec": {
      "name": "python3",
      "display_name": "Python 3"
    },
    "language_info": {
      "name": "python"
    },
    "accelerator": "GPU"
  },
  "cells": [
    {
      "cell_type": "markdown",
      "metadata": {
        "id": "view-in-github",
        "colab_type": "text"
      },
      "source": [
        "<a href=\"https://colab.research.google.com/github/X-pose/Skin-Disease-Classifiaction-Models---Deep-Learning-Assignment/blob/IT21223594---Thalangama-T.P/VGG16_Skin_disease_classification_model_IT21223594.ipynb\" target=\"_parent\"><img src=\"https://colab.research.google.com/assets/colab-badge.svg\" alt=\"Open In Colab\"/></a>"
      ]
    },
    {
      "cell_type": "markdown",
      "source": [
        "#**VGG16-Skin disease classification model**\n",
        "\n",
        "\n",
        "---\n",
        "\n",
        "Author : Thalangama T.P.\n",
        "\n",
        "IT Number : IT21223594"
      ],
      "metadata": {
        "id": "K4aTypBIBOpu"
      }
    },
    {
      "cell_type": "markdown",
      "source": [
        "#Dataset mounting and data extraction\n",
        "\n",
        "\n",
        "---\n",
        "\n"
      ],
      "metadata": {
        "id": "OxE0lqB_B6g1"
      }
    },
    {
      "cell_type": "code",
      "source": [
        "\n",
        "#extract dataset----------------------------------------------------------------------------------------\n",
        "import zipfile\n",
        "import os\n",
        "from google.colab import drive\n",
        "os.environ['PYTORCH_CUDA_ALLOC_CONF'] = 'expandable_segments:True'\n",
        "\n",
        "# Mount Google Drive\n",
        "drive.mount('/content/drive')\n",
        "\n",
        "# Path to dataset zip file in Google Drive\n",
        "zip_file_path = '/content/drive/My Drive/Skin Disease.v1i.multiclass.zip'\n",
        "\n",
        "# Directory to extract the files\n",
        "extract_dir = '/content/Extracted_data'\n",
        "\n",
        "# Create directory if it doesn't exist\n",
        "os.makedirs(extract_dir, exist_ok=True)\n",
        "\n",
        "# Extract the zip file\n",
        "with zipfile.ZipFile(zip_file_path, 'r') as zip_ref:\n",
        "    zip_ref.extractall(extract_dir)\n",
        "\n",
        "print(f\"Dataset extracted to {extract_dir}\")"
      ],
      "metadata": {
        "colab": {
          "base_uri": "https://localhost:8080/"
        },
        "id": "FNV0uBS9CXNN",
        "outputId": "48a2fcdb-59d0-4197-c897-65e0b6526739"
      },
      "execution_count": 1,
      "outputs": [
        {
          "output_type": "stream",
          "name": "stdout",
          "text": [
            "Mounted at /content/drive\n",
            "Dataset extracted to /content/Extracted_data\n"
          ]
        }
      ]
    },
    {
      "cell_type": "markdown",
      "source": [
        "#Data splitting\n",
        "\n",
        "\n",
        "---\n",
        "\n",
        "\n",
        "#### The original dataset contained only training and test sets. For validation purposes, I have allocated 10% of the training data to create a separate validation set. The following code implements the logic for splitting the data and creating the validation set."
      ],
      "metadata": {
        "id": "rlReeVdECxdZ"
      }
    },
    {
      "cell_type": "code",
      "execution_count": 2,
      "metadata": {
        "colab": {
          "base_uri": "https://localhost:8080/"
        },
        "id": "SrR7tN1yAysu",
        "outputId": "a6da85f7-1e12-4b01-e1d7-069a8ddb1619"
      },
      "outputs": [
        {
          "output_type": "stream",
          "name": "stdout",
          "text": [
            "Training set size: 3674\n",
            "Validation set size: 409\n",
            "Test set size: 454\n"
          ]
        }
      ],
      "source": [
        "import pandas as pd\n",
        "import shutil\n",
        "import random\n",
        "from pathlib import Path\n",
        "\n",
        "# Set up paths for train, test, and validation data\n",
        "data_dir = Path('/content/Extracted_data')\n",
        "train_images_dir = data_dir / 'train'\n",
        "test_images_dir = data_dir / 'test'\n",
        "val_images_dir = data_dir / 'valid'\n",
        "\n",
        "# Validating the validation directory existence\n",
        "val_images_dir.mkdir(parents=True, exist_ok=True)\n",
        "\n",
        "# Load the CSV file with annotations\n",
        "train_annotations_path = train_images_dir / '_classes.csv'\n",
        "train_df = pd.read_csv(train_annotations_path)\n",
        "\n",
        "# Load test data CSV\n",
        "test_annotations_path = test_images_dir / '_classes.csv'\n",
        "test_df = pd.read_csv(test_annotations_path)\n",
        "\n",
        "# Split 10% of the training data into validation\n",
        "train_filenames = train_df['filename'].tolist()\n",
        "random.shuffle(train_filenames)\n",
        "split_index = int(0.9 * len(train_filenames))\n",
        "train_split = train_filenames[:split_index]\n",
        "val_split = train_filenames[split_index:]\n",
        "\n",
        "# Create a new DataFrame for validation data\n",
        "val_df = train_df[train_df['filename'].isin(val_split)]\n",
        "train_df = train_df[train_df['filename'].isin(train_split)]\n",
        "\n",
        "# Move validation images to the validation folder\n",
        "for val_filename in val_split:\n",
        "    val_img_path = train_images_dir / val_filename\n",
        "    shutil.move(str(val_img_path), val_images_dir / val_filename)\n",
        "\n",
        "# Save the updated train and validation CSV files\n",
        "train_df.to_csv(train_images_dir / '_classes.csv', index=False)\n",
        "val_df.to_csv(val_images_dir / '_classes.csv', index=False)\n",
        "\n",
        "# Optionally print the number of images in each set\n",
        "print(f\"Training set size: {len(train_df)}\")\n",
        "print(f\"Validation set size: {len(val_df)}\")\n",
        "print(f\"Test set size: {len(test_df)}\")\n"
      ]
    },
    {
      "cell_type": "markdown",
      "source": [
        "#Dataloader setup\n",
        "\n",
        "\n",
        "---\n",
        "\n",
        "#### The following codebase contains the logic related to applying transforms and data augmentation to the split datasets. Train data uses more data augmentation techniques (for better generalization of the model) while validation and test datasets use the basic transforms to mimic real-world scenarios. Then data are loaded into respective DataLoaders to be used in the later parts of the training."
      ],
      "metadata": {
        "id": "MulejbgLDsP5"
      }
    },
    {
      "cell_type": "code",
      "source": [
        "import os\n",
        "import pandas as pd\n",
        "import torch\n",
        "from torchvision import transforms\n",
        "from torch.utils.data import Dataset, DataLoader\n",
        "from PIL import Image\n",
        "\n",
        "\n",
        "class SkinDiseaseDataset(Dataset):\n",
        "    def __init__(self, csv_file, img_dir, transform=None):\n",
        "        self.data_frame = pd.read_csv(csv_file)\n",
        "        self.img_dir = img_dir\n",
        "        self.transform = transform\n",
        "        self.classes = list(self.data_frame.columns[1:])  # Skip 'filename' column\n",
        "\n",
        "\n",
        "    def __len__(self):\n",
        "        return len(self.data_frame)\n",
        "\n",
        "    def __getitem__(self, idx):\n",
        "        img_name = os.path.join(self.img_dir, self.data_frame.iloc[idx, 0])\n",
        "        image = Image.open(img_name).convert('RGB')\n",
        "        labels = torch.tensor(self.data_frame.iloc[idx, 1:].values.astype('int'), dtype=torch.float32)\n",
        "\n",
        "\n",
        "        if self.transform:\n",
        "            image = self.transform(image)\n",
        "\n",
        "        return image, labels\n",
        "\n",
        "# Defining Transformations\n",
        "# More data augmentation added to help with better generalization\n",
        "train_transforms = transforms.Compose([\n",
        "    transforms.Resize((224, 224)),  # Resize to 224x224 as per VGG16 default input size\n",
        "    transforms.RandomHorizontalFlip(),  # Default augmentation: horizontal flip\n",
        "    transforms.ColorJitter(brightness=0.2, saturation=0.2),  # Data Augmentation\n",
        "    transforms.ToTensor(),\n",
        "    transforms.Normalize(mean=[0.485, 0.456, 0.406], std=[0.229, 0.224, 0.225])  # Default normalization for VGG16\n",
        "])\n",
        "\n",
        "#Contains only the basic transform to mimic real world data\n",
        "test_transforms = transforms.Compose([\n",
        "    transforms.Resize((224, 224)),\n",
        "    transforms.ToTensor(),\n",
        "    transforms.Normalize(mean=[0.485, 0.456, 0.406], std=[0.229, 0.224, 0.225])\n",
        "])\n",
        "\n",
        "# Paths to CSVs and Image Directories\n",
        "train_csv = '/content/Extracted_data/train/_classes.csv'\n",
        "train_img_dir = '/content/Extracted_data/train/'\n",
        "\n",
        "valid_csv = '/content/Extracted_data/valid/_classes.csv'\n",
        "valid_img_dir = '/content/Extracted_data/valid/'\n",
        "\n",
        "\n",
        "\n",
        "# Create Datasets\n",
        "train_dataset = SkinDiseaseDataset(csv_file=train_csv, img_dir=train_img_dir, transform=train_transforms)\n",
        "valid_dataset = SkinDiseaseDataset(csv_file=valid_csv, img_dir=valid_img_dir, transform=test_transforms)\n",
        "\n",
        "\n",
        "# Create DataLoaders. In here I am using smaller batch sizes for faster convergence\n",
        "train_loader = DataLoader(train_dataset, batch_size= 8, shuffle=True, num_workers=8)\n",
        "valid_loader = DataLoader(valid_dataset, batch_size=8, shuffle=True, num_workers=8)\n",
        "\n",
        "\n",
        "\n",
        "# Checking DataLoader Output\n",
        "for images, labels in train_loader:\n",
        "    print(images.size(), labels.size())\n",
        "    break\n"
      ],
      "metadata": {
        "colab": {
          "base_uri": "https://localhost:8080/"
        },
        "id": "CdRnf1rJEPnW",
        "outputId": "0bd2fc76-9f47-4acc-85d2-67ab3f1316c8"
      },
      "execution_count": 3,
      "outputs": [
        {
          "output_type": "stream",
          "name": "stdout",
          "text": [
            "torch.Size([8, 3, 224, 224]) torch.Size([8, 17])\n"
          ]
        }
      ]
    },
    {
      "cell_type": "markdown",
      "source": [
        "#Model codebase\n",
        "\n",
        "\n",
        "---\n",
        "#### The following codebase creates a classification model using a pre-trained VGG16 network. It freezes featuer extracting layers, and modifies the classifier for 17 skin diseases classes.\n"
      ],
      "metadata": {
        "id": "AraQPvRuFkHV"
      }
    },
    {
      "cell_type": "code",
      "source": [
        "import torch\n",
        "import torchvision\n",
        "from torchvision.models.vgg import vgg16\n",
        "\n",
        "def create_classification_model(num_classes=17):  # 17 skin diseases\n",
        "    # Loading the pre-trained VGG16 model without the top classifier layers\n",
        "    model = vgg16(weights=torchvision.models.VGG16_Weights.IMAGENET1K_V1)\n",
        "\n",
        "    # Freeze the featuer extractor convolutional base\n",
        "    for param in model.features.parameters():\n",
        "      param.requires_grad = False\n",
        "\n",
        "    # Modifying classifier layers\n",
        "    model.classifier = torch.nn.Sequential(\n",
        "      torch.nn.Flatten(),\n",
        "      torch.nn.Linear(25088, 1024),  # First hidden layer\n",
        "      torch.nn.ReLU(),\n",
        "      torch.nn.Dropout(0.5),\n",
        "\n",
        "      torch.nn.Linear(1024, 512),    # Second hidden layer\n",
        "      torch.nn.ReLU(),\n",
        "      torch.nn.Dropout(0.4),\n",
        "\n",
        "      torch.nn.Linear(512, 256),     # Third hidden layer\n",
        "      torch.nn.ReLU(),\n",
        "\n",
        "      torch.nn.Linear(256, num_classes),  # Final output layer\n",
        "    )\n",
        "\n",
        "    return model\n",
        "\n",
        "if __name__ == '__main__':\n",
        "    model = create_classification_model(num_classes=17)\n",
        "    print(model)\n"
      ],
      "metadata": {
        "colab": {
          "base_uri": "https://localhost:8080/"
        },
        "id": "XdJmrkD2F13w",
        "outputId": "c8de4a0a-1418-48cf-bc89-fdd99926ab9a"
      },
      "execution_count": 7,
      "outputs": [
        {
          "output_type": "stream",
          "name": "stdout",
          "text": [
            "VGG(\n",
            "  (features): Sequential(\n",
            "    (0): Conv2d(3, 64, kernel_size=(3, 3), stride=(1, 1), padding=(1, 1))\n",
            "    (1): ReLU(inplace=True)\n",
            "    (2): Conv2d(64, 64, kernel_size=(3, 3), stride=(1, 1), padding=(1, 1))\n",
            "    (3): ReLU(inplace=True)\n",
            "    (4): MaxPool2d(kernel_size=2, stride=2, padding=0, dilation=1, ceil_mode=False)\n",
            "    (5): Conv2d(64, 128, kernel_size=(3, 3), stride=(1, 1), padding=(1, 1))\n",
            "    (6): ReLU(inplace=True)\n",
            "    (7): Conv2d(128, 128, kernel_size=(3, 3), stride=(1, 1), padding=(1, 1))\n",
            "    (8): ReLU(inplace=True)\n",
            "    (9): MaxPool2d(kernel_size=2, stride=2, padding=0, dilation=1, ceil_mode=False)\n",
            "    (10): Conv2d(128, 256, kernel_size=(3, 3), stride=(1, 1), padding=(1, 1))\n",
            "    (11): ReLU(inplace=True)\n",
            "    (12): Conv2d(256, 256, kernel_size=(3, 3), stride=(1, 1), padding=(1, 1))\n",
            "    (13): ReLU(inplace=True)\n",
            "    (14): Conv2d(256, 256, kernel_size=(3, 3), stride=(1, 1), padding=(1, 1))\n",
            "    (15): ReLU(inplace=True)\n",
            "    (16): MaxPool2d(kernel_size=2, stride=2, padding=0, dilation=1, ceil_mode=False)\n",
            "    (17): Conv2d(256, 512, kernel_size=(3, 3), stride=(1, 1), padding=(1, 1))\n",
            "    (18): ReLU(inplace=True)\n",
            "    (19): Conv2d(512, 512, kernel_size=(3, 3), stride=(1, 1), padding=(1, 1))\n",
            "    (20): ReLU(inplace=True)\n",
            "    (21): Conv2d(512, 512, kernel_size=(3, 3), stride=(1, 1), padding=(1, 1))\n",
            "    (22): ReLU(inplace=True)\n",
            "    (23): MaxPool2d(kernel_size=2, stride=2, padding=0, dilation=1, ceil_mode=False)\n",
            "    (24): Conv2d(512, 512, kernel_size=(3, 3), stride=(1, 1), padding=(1, 1))\n",
            "    (25): ReLU(inplace=True)\n",
            "    (26): Conv2d(512, 512, kernel_size=(3, 3), stride=(1, 1), padding=(1, 1))\n",
            "    (27): ReLU(inplace=True)\n",
            "    (28): Conv2d(512, 512, kernel_size=(3, 3), stride=(1, 1), padding=(1, 1))\n",
            "    (29): ReLU(inplace=True)\n",
            "    (30): MaxPool2d(kernel_size=2, stride=2, padding=0, dilation=1, ceil_mode=False)\n",
            "  )\n",
            "  (avgpool): AdaptiveAvgPool2d(output_size=(7, 7))\n",
            "  (classifier): Sequential(\n",
            "    (0): Flatten(start_dim=1, end_dim=-1)\n",
            "    (1): Linear(in_features=25088, out_features=1024, bias=True)\n",
            "    (2): ReLU()\n",
            "    (3): Dropout(p=0.5, inplace=False)\n",
            "    (4): Linear(in_features=1024, out_features=512, bias=True)\n",
            "    (5): ReLU()\n",
            "    (6): Dropout(p=0.4, inplace=False)\n",
            "    (7): Linear(in_features=512, out_features=256, bias=True)\n",
            "    (8): ReLU()\n",
            "    (9): Linear(in_features=256, out_features=17, bias=True)\n",
            "  )\n",
            ")\n"
          ]
        }
      ]
    },
    {
      "cell_type": "markdown",
      "source": [
        "#Loss function, optimizer, and scheduler.\n",
        "\n",
        "\n",
        "---\n",
        "\n",
        "In here I am trying to address the class imbalance problems that may included in the dataset by assigning higher weights to less frequent classes. Then after normalizing the class weights (So that they sum to 1 to stabalize the training) and passing the modified weights as paramters to the loss function.\n",
        "\n",
        "I have selected CrossEntropyLoss for multiclass image classification due to its ability to handle multiple classes, provide effective probabilistic output comparisons, penalize incorrect predictions, and ensure stable gradient computation during training.\n",
        "\n",
        "As my optimizer, I have selected AdamW with a learning rate of 0.00001 due to its ability to combine the benefits of Adam’s adaptive learning rate with weight decay (L2 regularization), which helps prevent overfitting, ensures stable convergence, and maintains better generalization performance, in deep learning models.\n",
        "\n",
        "For better learning, I have used a learning rate scheduler, ReduceLROnPlateau(), with a patience of 3 to monitor the loss improvement, as it automatically reduces the learning rate when the loss plateaus, helping to fine-tune the model and avoid overshooting or stagnation during training."
      ],
      "metadata": {
        "id": "q6tNQw9tHn-0"
      }
    },
    {
      "cell_type": "code",
      "source": [
        "# Import necessary libraries for optimization and scheduling\n",
        "import torch\n",
        "import torch.optim as optim\n",
        "from torch.optim.lr_scheduler import ReduceLROnPlateau\n",
        "import numpy as np\n",
        "\n",
        "# Set the device to GPU if available, otherwise use CPU.\n",
        "device = torch.device('cuda' if torch.cuda.is_available() else 'cpu')\n",
        "\n",
        "# Calculate the class counts from the training dataset.\n",
        "class_counts = np.sum(train_dataset.data_frame.iloc[:, 1:].values, axis=0)\n",
        "\n",
        "# Set a smoothing factor to prevent division by zero or extremely small weights for underrepresented classes.\n",
        "smoothing_factor = 1.0\n",
        "\n",
        "# Calculate class weights inversely proportional to the class counts, adding the smoothing factor to each count.\n",
        "# This helps deal with class imbalance by assigning higher weights to less frequent classes.\n",
        "class_weights = 1.0 / torch.tensor(class_counts + smoothing_factor, dtype=torch.float)\n",
        "\n",
        "# Normalize the class weights so that they sum to 1, which stabilizes the training.\n",
        "class_weights = class_weights / torch.sum(class_weights)\n",
        "class_weights = class_weights.to(device)\n",
        "\n",
        "#Using the CrossEntropyLoss with modified weight to address class imbalance problem\n",
        "criterion = torch.nn.CrossEntropyLoss(weight=class_weights)\n",
        "\n",
        "# Using the AdamW (Adam with weight decay), as the optimizer with a learning rate of 0.00001.\n",
        "optimizer = optim.AdamW(model.parameters(), lr=0.00001)\n",
        "\n",
        "# Use a learning rate scheduler to reduce the learning rate when the loss stops improving.\n",
        "scheduler = ReduceLROnPlateau(optimizer, mode='min', factor=0.1, patience=3)\n",
        "\n",
        "model = model.to(device)\n"
      ],
      "metadata": {
        "id": "VA0ronFdH_ba"
      },
      "execution_count": 10,
      "outputs": []
    },
    {
      "cell_type": "markdown",
      "source": [
        "#Training and validation loop\n",
        "\n",
        "---\n",
        "\n",
        "####Training and validation are both performed within the same code block. Validation is carried out after each training epoch to assess the model's performance on the validation set, tracking both training and validation accuracy, as well as monitoring training and validation loss throughout the process. A graph that show the loss over epoch is displayed at the end of the process.\n"
      ],
      "metadata": {
        "id": "aa4TGux9M2Ke"
      }
    },
    {
      "cell_type": "code",
      "source": [
        "# Updated Training and validation loop for classification task\n",
        "import torch\n",
        "import torch.optim as optim\n",
        "from torch.utils.data import DataLoader\n",
        "import matplotlib.pyplot as plt\n",
        "from tqdm import tqdm\n",
        "\n",
        "\n",
        "# Training loop parameters\n",
        "num_epochs = 15\n",
        "train_loss_history = []\n",
        "valid_loss_history = []\n",
        "\n",
        "class_names = ['Actinic', 'Atopic', 'Benign', 'Candidiasis', 'Dermatitis', 'Dermatofibroma', 'Melanocytic', 'Melanoma', 'Ringworm', 'Squamous', 'Tinea', 'Vascular', 'Carcinoma', 'Cell', 'Keratosis', 'Lesion', 'Nevus']\n",
        "\n",
        "# Function for training one epoch\n",
        "def train_one_epoch(model, train_loader, optimizer, criterion, device, class_names):\n",
        "    model.train()  # Setting the model to training mode\n",
        "    running_loss = 0.0\n",
        "    correct_preds = 0\n",
        "    total_preds = 0\n",
        "\n",
        "    for images, labels in tqdm(train_loader):\n",
        "        images = images.to(device)\n",
        "        labels = labels.to(device)\n",
        "\n",
        "        # Zero the parameter gradients\n",
        "        optimizer.zero_grad()\n",
        "\n",
        "        # Forward pass\n",
        "        outputs = model(images)\n",
        "        loss = criterion(outputs, labels)\n",
        "\n",
        "        # Backward pass and optimization\n",
        "        loss.backward()\n",
        "        optimizer.step()\n",
        "\n",
        "        # Update running loss\n",
        "        running_loss += loss.item() * images.size(0)  # Total loss for the batch\n",
        "\n",
        "        # Accuracy calculation\n",
        "        _, predicted = torch.max(outputs, 1)\n",
        "        labels_single = torch.argmax(labels, dim=1)  # Convert to single-label representation\n",
        "\n",
        "\n",
        "        correct_preds += (predicted == labels_single).sum().item()\n",
        "        total_preds += labels.size(0)\n",
        "\n",
        "    epoch_loss = running_loss / len(train_loader.dataset)  # Mean loss for the epoch\n",
        "    accuracy = correct_preds / total_preds  # Accuracy for the epoch\n",
        "\n",
        "    return epoch_loss, accuracy\n",
        "\n",
        "\n",
        "# Function for validation (without gradient updates)\n",
        "def validate(model, valid_loader, criterion, device,threshold=0.5):\n",
        "    model.eval()  # Setting model to evaluation mode\n",
        "    running_loss = 0.0\n",
        "    correct_preds = 0\n",
        "    total_preds = 0\n",
        "\n",
        "    with torch.no_grad():\n",
        "        for images, labels in tqdm(valid_loader):\n",
        "            images = images.to(device)\n",
        "            labels = labels.to(device)\n",
        "\n",
        "            outputs = model(images)\n",
        "            loss = criterion(outputs, labels)\n",
        "\n",
        "            running_loss += loss.item() * images.size(0)  # Total loss for the batch\n",
        "\n",
        "            # Softmax to get predicted probabilities\n",
        "            predicted_probs = torch.softmax(outputs, dim=-1)\n",
        "\n",
        "            # Apply threshold logic to get the predicted class\n",
        "            predicted_classes = (predicted_probs > threshold).long()\n",
        "\n",
        "            # Convert labels to single-label representation\n",
        "            labels_single = torch.argmax(labels, dim=1)\n",
        "\n",
        "            # Accuracy calculation\n",
        "            _, predicted = torch.max(outputs, 1)\n",
        "            # Convert labels to single-label representation\n",
        "            labels_single = torch.argmax(labels, dim=1)\n",
        "\n",
        "            #Predicted class vs actual class.\n",
        "            for i in range(len(predicted)):\n",
        "              pred_class = class_names[predicted[i].item()]  # Get predicted class name\n",
        "              actual_class = class_names[labels_single[i].item()]  # Get actual class name\n",
        "\n",
        "            correct_preds += (predicted == labels_single).sum().item()\n",
        "\n",
        "            total_preds += labels.size(0)\n",
        "\n",
        "    epoch_loss = running_loss / len(valid_loader.dataset)  # Mean loss for the epoch\n",
        "    accuracy = correct_preds / total_preds  # Accuracy for the epoch\n",
        "\n",
        "    if scheduler:\n",
        "        scheduler.step(epoch_loss)  # Pass the validation loss to the scheduler\n",
        "\n",
        "    return epoch_loss, accuracy\n",
        "\n",
        "# Training loop with progress visualization\n",
        "for epoch in range(num_epochs):\n",
        "    print(f'Epoch {epoch+1}/{num_epochs}')\n",
        "\n",
        "    # Train for one epoch\n",
        "    train_loss, train_acc = train_one_epoch(model, train_loader, optimizer, criterion, device, class_names)\n",
        "\n",
        "    # Validate after each epoch\n",
        "    valid_loss, valid_acc = validate(model, valid_loader, criterion, device)\n",
        "\n",
        "    # Store loss values for visualization\n",
        "    train_loss_history.append(train_loss)\n",
        "    valid_loss_history.append(valid_loss)\n",
        "\n",
        "    # Print stats\n",
        "    print(f'Train Loss: {train_loss:.4f}, Train Acc: {train_acc:.4f}')\n",
        "    print(f'Valid Loss: {valid_loss:.4f}, Valid Acc: {valid_acc:.4f}')\n",
        "\n",
        "# Visualize loss after training is completed\n",
        "plt.figure(figsize=(10, 5))\n",
        "plt.plot(train_loss_history, label='Training Loss')\n",
        "plt.plot(valid_loss_history, label='Validation Loss')\n",
        "plt.title('Loss over Epochs')\n",
        "plt.xlabel('Epoch')\n",
        "plt.ylabel('Loss')\n",
        "plt.legend()\n",
        "plt.show()\n"
      ],
      "metadata": {
        "colab": {
          "base_uri": "https://localhost:8080/",
          "height": 1000
        },
        "id": "mxIq492bOEwF",
        "outputId": "00b2c8e8-1a91-4ab8-a4a5-ab6dc2249217"
      },
      "execution_count": 11,
      "outputs": [
        {
          "output_type": "stream",
          "name": "stdout",
          "text": [
            "Epoch 1/15\n"
          ]
        },
        {
          "output_type": "stream",
          "name": "stderr",
          "text": [
            "100%|██████████| 460/460 [00:07<00:00, 60.11it/s]\n",
            "100%|██████████| 52/52 [00:00<00:00, 61.42it/s]\n"
          ]
        },
        {
          "output_type": "stream",
          "name": "stdout",
          "text": [
            "Train Loss: 0.3007, Train Acc: 0.1824\n",
            "Valid Loss: 0.2429, Valid Acc: 0.3081\n",
            "Epoch 2/15\n"
          ]
        },
        {
          "output_type": "stream",
          "name": "stderr",
          "text": [
            "100%|██████████| 460/460 [00:06<00:00, 75.43it/s]\n",
            "100%|██████████| 52/52 [00:00<00:00, 64.00it/s]\n"
          ]
        },
        {
          "output_type": "stream",
          "name": "stdout",
          "text": [
            "Train Loss: 0.2080, Train Acc: 0.3704\n",
            "Valid Loss: 0.1589, Valid Acc: 0.5721\n",
            "Epoch 3/15\n"
          ]
        },
        {
          "output_type": "stream",
          "name": "stderr",
          "text": [
            "100%|██████████| 460/460 [00:06<00:00, 74.64it/s]\n",
            "100%|██████████| 52/52 [00:00<00:00, 62.22it/s]\n"
          ]
        },
        {
          "output_type": "stream",
          "name": "stdout",
          "text": [
            "Train Loss: 0.1623, Train Acc: 0.4652\n",
            "Valid Loss: 0.1347, Valid Acc: 0.7213\n",
            "Epoch 4/15\n"
          ]
        },
        {
          "output_type": "stream",
          "name": "stderr",
          "text": [
            "100%|██████████| 460/460 [00:06<00:00, 75.57it/s]\n",
            "100%|██████████| 52/52 [00:00<00:00, 63.12it/s]\n"
          ]
        },
        {
          "output_type": "stream",
          "name": "stdout",
          "text": [
            "Train Loss: 0.1423, Train Acc: 0.5128\n",
            "Valid Loss: 0.1219, Valid Acc: 0.7457\n",
            "Epoch 5/15\n"
          ]
        },
        {
          "output_type": "stream",
          "name": "stderr",
          "text": [
            "100%|██████████| 460/460 [00:06<00:00, 74.20it/s]\n",
            "100%|██████████| 52/52 [00:00<00:00, 64.50it/s]\n"
          ]
        },
        {
          "output_type": "stream",
          "name": "stdout",
          "text": [
            "Train Loss: 0.1288, Train Acc: 0.5621\n",
            "Valid Loss: 0.1133, Valid Acc: 0.6161\n",
            "Epoch 6/15\n"
          ]
        },
        {
          "output_type": "stream",
          "name": "stderr",
          "text": [
            "100%|██████████| 460/460 [00:06<00:00, 74.08it/s]\n",
            "100%|██████████| 52/52 [00:00<00:00, 61.48it/s]\n"
          ]
        },
        {
          "output_type": "stream",
          "name": "stdout",
          "text": [
            "Train Loss: 0.1201, Train Acc: 0.5920\n",
            "Valid Loss: 0.1062, Valid Acc: 0.7653\n",
            "Epoch 7/15\n"
          ]
        },
        {
          "output_type": "stream",
          "name": "stderr",
          "text": [
            "100%|██████████| 460/460 [00:06<00:00, 74.43it/s]\n",
            "100%|██████████| 52/52 [00:00<00:00, 62.30it/s]\n"
          ]
        },
        {
          "output_type": "stream",
          "name": "stdout",
          "text": [
            "Train Loss: 0.1125, Train Acc: 0.6037\n",
            "Valid Loss: 0.1021, Valid Acc: 0.8778\n",
            "Epoch 8/15\n"
          ]
        },
        {
          "output_type": "stream",
          "name": "stderr",
          "text": [
            "100%|██████████| 460/460 [00:06<00:00, 75.22it/s]\n",
            "100%|██████████| 52/52 [00:00<00:00, 60.82it/s]\n"
          ]
        },
        {
          "output_type": "stream",
          "name": "stdout",
          "text": [
            "Train Loss: 0.1070, Train Acc: 0.6271\n",
            "Valid Loss: 0.0982, Valid Acc: 0.8289\n",
            "Epoch 9/15\n"
          ]
        },
        {
          "output_type": "stream",
          "name": "stderr",
          "text": [
            "100%|██████████| 460/460 [00:06<00:00, 74.55it/s]\n",
            "100%|██████████| 52/52 [00:00<00:00, 63.46it/s]\n"
          ]
        },
        {
          "output_type": "stream",
          "name": "stdout",
          "text": [
            "Train Loss: 0.1019, Train Acc: 0.6467\n",
            "Valid Loss: 0.0953, Valid Acc: 0.8166\n",
            "Epoch 10/15\n"
          ]
        },
        {
          "output_type": "stream",
          "name": "stderr",
          "text": [
            "100%|██████████| 460/460 [00:06<00:00, 73.44it/s]\n",
            "100%|██████████| 52/52 [00:00<00:00, 63.44it/s]\n"
          ]
        },
        {
          "output_type": "stream",
          "name": "stdout",
          "text": [
            "Train Loss: 0.0988, Train Acc: 0.6432\n",
            "Valid Loss: 0.0936, Valid Acc: 0.7873\n",
            "Epoch 11/15\n"
          ]
        },
        {
          "output_type": "stream",
          "name": "stderr",
          "text": [
            "100%|██████████| 460/460 [00:06<00:00, 73.86it/s]\n",
            "100%|██████████| 52/52 [00:00<00:00, 61.21it/s]\n"
          ]
        },
        {
          "output_type": "stream",
          "name": "stdout",
          "text": [
            "Train Loss: 0.0963, Train Acc: 0.6508\n",
            "Valid Loss: 0.0921, Valid Acc: 0.7286\n",
            "Epoch 12/15\n"
          ]
        },
        {
          "output_type": "stream",
          "name": "stderr",
          "text": [
            "100%|██████████| 460/460 [00:05<00:00, 76.89it/s]\n",
            "100%|██████████| 52/52 [00:00<00:00, 63.04it/s]\n"
          ]
        },
        {
          "output_type": "stream",
          "name": "stdout",
          "text": [
            "Train Loss: 0.0940, Train Acc: 0.6611\n",
            "Valid Loss: 0.0910, Valid Acc: 0.7579\n",
            "Epoch 13/15\n"
          ]
        },
        {
          "output_type": "stream",
          "name": "stderr",
          "text": [
            "100%|██████████| 460/460 [00:06<00:00, 73.78it/s]\n",
            "100%|██████████| 52/52 [00:00<00:00, 62.49it/s]\n"
          ]
        },
        {
          "output_type": "stream",
          "name": "stdout",
          "text": [
            "Train Loss: 0.0925, Train Acc: 0.6598\n",
            "Valid Loss: 0.0899, Valid Acc: 0.7433\n",
            "Epoch 14/15\n"
          ]
        },
        {
          "output_type": "stream",
          "name": "stderr",
          "text": [
            "100%|██████████| 460/460 [00:06<00:00, 75.31it/s]\n",
            "100%|██████████| 52/52 [00:00<00:00, 58.99it/s]\n"
          ]
        },
        {
          "output_type": "stream",
          "name": "stdout",
          "text": [
            "Train Loss: 0.0907, Train Acc: 0.6562\n",
            "Valid Loss: 0.0894, Valid Acc: 0.7824\n",
            "Epoch 15/15\n"
          ]
        },
        {
          "output_type": "stream",
          "name": "stderr",
          "text": [
            "100%|██████████| 460/460 [00:06<00:00, 74.13it/s]\n",
            "100%|██████████| 52/52 [00:00<00:00, 63.74it/s]\n"
          ]
        },
        {
          "output_type": "stream",
          "name": "stdout",
          "text": [
            "Train Loss: 0.0902, Train Acc: 0.6758\n",
            "Valid Loss: 0.0890, Valid Acc: 0.7286\n"
          ]
        },
        {
          "output_type": "display_data",
          "data": {
            "text/plain": [
              "<Figure size 1000x500 with 1 Axes>"
            ],
            "image/png": "[encoded data removed]"
          },
          "metadata": {}
        }
      ]
    },
    {
      "cell_type": "markdown",
      "source": [
        "#Saving the model.\n",
        "\n",
        "\n",
        "---\n",
        "\n",
        "####Model is saved after each training session so that model can be used later for further training or evaluation steps."
      ],
      "metadata": {
        "id": "qcQn6xY9Ookz"
      }
    },
    {
      "cell_type": "code",
      "source": [
        "\n",
        "model_save_path = '/content/drive/My Drive/skin_disease_model_complete.pth'\n",
        "torch.save(model, model_save_path)\n",
        "print(f\"Entire model saved successfully to: {model_save_path}\")\n"
      ],
      "metadata": {
        "colab": {
          "base_uri": "https://localhost:8080/"
        },
        "id": "q8C-_nPiO-vK",
        "outputId": "c1c7e075-d8b0-46c2-f144-7494d8e7620a"
      },
      "execution_count": 12,
      "outputs": [
        {
          "output_type": "stream",
          "name": "stdout",
          "text": [
            "Entire model saved successfully to: /content/drive/My Drive/skin_disease_model_complete.pth\n"
          ]
        }
      ]
    },
    {
      "cell_type": "markdown",
      "source": [
        "#Data loading for testing"
      ],
      "metadata": {
        "id": "m2A064CQQIj9"
      }
    },
    {
      "cell_type": "code",
      "source": [
        "\n",
        "#extract dataset----------------------------------------------------------------------------------------\n",
        "import zipfile\n",
        "import os\n",
        "from google.colab import drive\n",
        "os.environ['PYTORCH_CUDA_ALLOC_CONF'] = 'expandable_segments:True'\n",
        "import pandas as pd\n",
        "import torch\n",
        "from torchvision import transforms\n",
        "from torch.utils.data import Dataset, DataLoader\n",
        "from PIL import Image\n",
        "from pathlib import Path\n",
        "\n",
        "# Mount Google Drive\n",
        "drive.mount('/content/drive')\n",
        "\n",
        "# Path to dataset zip file in Google Drive\n",
        "zip_file_path = '/content/drive/My Drive/Skin Disease.v1i.multiclass.zip'\n",
        "\n",
        "# Directory to extract the files\n",
        "extract_dir = '/content/Extracted_data'\n",
        "\n",
        "# Create directory if it doesn't exist\n",
        "os.makedirs(extract_dir, exist_ok=True)\n",
        "\n",
        "# Extract the zip file\n",
        "with zipfile.ZipFile(zip_file_path, 'r') as zip_ref:\n",
        "    zip_ref.extractall(extract_dir)\n",
        "\n",
        "print(f\"Dataset extracted to {extract_dir}\")\n",
        "\n",
        "data_dir = Path('/content/Extracted_data')\n",
        "\n",
        "test_images_dir = data_dir / 'test'\n",
        "\n",
        "# Load test data CSV\n",
        "test_annotations_path = test_images_dir / '_classes.csv'\n",
        "test_df = pd.read_csv(test_annotations_path)\n",
        "\n",
        "\n",
        "class SkinDiseaseDataset(Dataset):\n",
        "    def __init__(self, csv_file, img_dir, transform=None):\n",
        "        self.data_frame = pd.read_csv(csv_file)\n",
        "        self.img_dir = img_dir\n",
        "        self.transform = transform\n",
        "        self.classes = list(self.data_frame.columns[1:])  # Skip 'filename' column\n",
        "\n",
        "\n",
        "    def __len__(self):\n",
        "        return len(self.data_frame)\n",
        "\n",
        "    def __getitem__(self, idx):\n",
        "        img_name = os.path.join(self.img_dir, self.data_frame.iloc[idx, 0])\n",
        "        image = Image.open(img_name).convert('RGB')\n",
        "        labels = torch.tensor(self.data_frame.iloc[idx, 1:].values.astype('int'), dtype=torch.float32)\n",
        "\n",
        "\n",
        "        if self.transform:\n",
        "            image = self.transform(image)\n",
        "\n",
        "        return image, labels\n",
        "\n",
        "#Contains only the basic transform to mimic real world data\n",
        "test_transforms = transforms.Compose([\n",
        "    transforms.Resize((224, 224)),\n",
        "    transforms.ToTensor(),\n",
        "    transforms.Normalize(mean=[0.485, 0.456, 0.406], std=[0.229, 0.224, 0.225])\n",
        "])\n",
        "\n",
        "#Paths to CSVs and image files\n",
        "test_csv = '/content/Extracted_data/test/_classes.csv'\n",
        "test_img_dir = '/content/Extracted_data/test/'\n",
        "\n",
        "#Create datasets\n",
        "test_dataset = SkinDiseaseDataset(csv_file=test_csv, img_dir=test_img_dir, transform=test_transforms)\n",
        "\n",
        "#Create dataloaders\n",
        "test_loader = DataLoader(test_dataset, batch_size=8, shuffle=True, num_workers=8)\n",
        "\n"
      ],
      "metadata": {
        "colab": {
          "base_uri": "https://localhost:8080/"
        },
        "id": "Emn18zkHQOPF",
        "outputId": "c05d9407-675c-4828-f065-8efbacbd77c0"
      },
      "execution_count": 58,
      "outputs": [
        {
          "output_type": "stream",
          "name": "stdout",
          "text": [
            "Drive already mounted at /content/drive; to attempt to forcibly remount, call drive.mount(\"/content/drive\", force_remount=True).\n",
            "Dataset extracted to /content/Extracted_data\n"
          ]
        },
        {
          "output_type": "stream",
          "name": "stderr",
          "text": [
            "/usr/local/lib/python3.10/dist-packages/torch/utils/data/dataloader.py:557: UserWarning: This DataLoader will create 8 worker processes in total. Our suggested max number of worker in current system is 2, which is smaller than what this DataLoader is going to create. Please be aware that excessive worker creation might get DataLoader running slow or even freeze, lower the worker number to avoid potential slowness/freeze if necessary.\n",
            "  warnings.warn(_create_warning_msg(\n"
          ]
        }
      ]
    },
    {
      "cell_type": "markdown",
      "source": [
        "#Loading the model\n",
        "\n",
        "\n",
        "---\n",
        "\n",
        "####The model is being loaded for continuous training or evaluation"
      ],
      "metadata": {
        "id": "TFvXLTb_PLOo"
      }
    },
    {
      "cell_type": "code",
      "source": [
        "# Load the entire model from the saved path\n",
        "model_save_path = '/content/drive/My Drive/skin_disease_model_complete.pth'\n",
        "model = torch.load(model_save_path)\n",
        "\n",
        "device = torch.device('cuda' if torch.cuda.is_available() else 'cpu')\n",
        "model.to(device)\n",
        "\n",
        "# Set the model to evaluation mode\n",
        "model.eval()\n",
        "print(\"Model loaded successfully.\")\n"
      ],
      "metadata": {
        "colab": {
          "base_uri": "https://localhost:8080/"
        },
        "id": "c_5LYSWLPElo",
        "outputId": "f122d4ad-5cf1-4289-ede1-ca39f94e6c62"
      },
      "execution_count": 59,
      "outputs": [
        {
          "output_type": "stream",
          "name": "stderr",
          "text": [
            "<ipython-input-59-250978e7cf04>:3: FutureWarning: You are using `torch.load` with `weights_only=False` (the current default value), which uses the default pickle module implicitly. It is possible to construct malicious pickle data which will execute arbitrary code during unpickling (See https://github.com/pytorch/pytorch/blob/main/SECURITY.md#untrusted-models for more details). In a future release, the default value for `weights_only` will be flipped to `True`. This limits the functions that could be executed during unpickling. Arbitrary objects will no longer be allowed to be loaded via this mode unless they are explicitly allowlisted by the user via `torch.serialization.add_safe_globals`. We recommend you start setting `weights_only=True` for any use case where you don't have full control of the loaded file. Please open an issue on GitHub for any issues related to this experimental feature.\n",
            "  model = torch.load(model_save_path)\n"
          ]
        },
        {
          "output_type": "stream",
          "name": "stdout",
          "text": [
            "Model loaded successfully.\n"
          ]
        }
      ]
    },
    {
      "cell_type": "markdown",
      "source": [
        "#Model performance metrics\n",
        "\n",
        "\n",
        "---\n",
        "\n",
        "\n",
        "##Macro averaged F1 Score metric:"
      ],
      "metadata": {
        "id": "CwtRhs3GT65J"
      }
    },
    {
      "cell_type": "code",
      "source": [
        "#F1 score for model\n",
        "from sklearn.metrics import f1_score\n",
        "from tqdm import tqdm\n",
        "import numpy as np\n",
        "\n",
        "\n",
        "class_names = test_df.columns[1:].tolist()\n",
        "\n",
        "\n",
        "all_labels = []\n",
        "all_predictions = []\n",
        "def evaluate_f1(model, data_loader, device, class_names):\n",
        "    \"\"\"Evaluates the model using F1 score for multi-class classification.\"\"\"\n",
        "\n",
        "    with torch.no_grad():  # Disable gradient calculations\n",
        "        for images, labels in tqdm(data_loader):\n",
        "            images = images.to(device)\n",
        "            labels = labels.to(device)\n",
        "\n",
        "            outputs = model(images)\n",
        "\n",
        "            probabilities = torch.sigmoid(outputs) # Sigmoid for multi-label probabilities\n",
        "\n",
        "            # Threshold predictions to get binary labels. Considering the most confident probabilities\n",
        "            predicted = (probabilities > 0.92).int()\n",
        "\n",
        "            all_labels.extend(labels.cpu().numpy())  # Move labels to CPU and convert to numpy\n",
        "            all_predictions.extend(predicted.cpu().numpy())  # Move predictions to CPU and convert to numpy\n",
        "\n",
        "    # Calculate F1 score for each class\n",
        "    f1 = f1_score(all_labels, all_predictions, average='macro', zero_division=1)  # Macro-averaged F1 score\n",
        "\n",
        "    return f1\n",
        "\n",
        "# Determine device\n",
        "device = torch.device('cuda' if torch.cuda.is_available() else 'cpu')\n",
        "\n",
        "# Evaluate the model on the test dataset\n",
        "f1_score_macro = evaluate_f1(model, test_loader, device, class_names)\n",
        "print(f\"Macro-averaged F1 Score: {f1_score_macro:.4f}\")\n"
      ],
      "metadata": {
        "colab": {
          "base_uri": "https://localhost:8080/"
        },
        "id": "UXB1g9flUHiX",
        "outputId": "2cfd555d-c786-421e-acf4-d5b161a00613"
      },
      "execution_count": 60,
      "outputs": [
        {
          "output_type": "stream",
          "name": "stderr",
          "text": [
            "100%|██████████| 57/57 [00:04<00:00, 13.45it/s]"
          ]
        },
        {
          "output_type": "stream",
          "name": "stdout",
          "text": [
            "Macro-averaged F1 Score: 0.8756\n"
          ]
        },
        {
          "output_type": "stream",
          "name": "stderr",
          "text": [
            "\n"
          ]
        }
      ]
    },
    {
      "cell_type": "markdown",
      "source": [
        "##Accuracy metric:"
      ],
      "metadata": {
        "id": "TAoTeoFjVbmE"
      }
    },
    {
      "cell_type": "code",
      "source": [
        "#Accuracy of the model\n",
        "from sklearn.metrics import accuracy_score\n",
        "\n",
        "def calculate_model_accuracy(all_predictions, all_labels):\n",
        "\n",
        "    # Convert lists to numpy arrays\n",
        "    all_predictions = np.array(all_predictions)\n",
        "    all_labels = np.array(all_labels)\n",
        "\n",
        "\n",
        "    if all_predictions.ndim > 1:\n",
        "        all_predictions = np.argmax(all_predictions, axis=1)\n",
        "    if all_labels.ndim > 1:\n",
        "        all_labels = np.argmax(all_labels, axis=1)\n",
        "\n",
        "    # Use accuracy_score from sklearn to compute the accuracy\n",
        "    accuracy = accuracy_score(all_labels, all_predictions) * 100  # To get percentage accuracy\n",
        "\n",
        "    return accuracy\n",
        "\n",
        "\n",
        "\n",
        "\n",
        "# Assuming all_predictions and all_labels are numpy arrays or tensors containing the indices of the predicted/true class\n",
        "accuracy = calculate_model_accuracy(all_predictions, all_labels)\n",
        "\n",
        "print(f\"Overall Model Accuracy: {accuracy:.2f}%\")\n",
        "\n"
      ],
      "metadata": {
        "colab": {
          "base_uri": "https://localhost:8080/"
        },
        "id": "xJFI0DBWVmtT",
        "outputId": "61de29d4-7638-43d2-d80a-5d1008ee3352"
      },
      "execution_count": 61,
      "outputs": [
        {
          "output_type": "stream",
          "name": "stdout",
          "text": [
            "Overall Model Accuracy: 81.94%\n"
          ]
        }
      ]
    },
    {
      "cell_type": "markdown",
      "source": [
        "#Top K-accuracy metric:"
      ],
      "metadata": {
        "id": "7sT-Jz0MW_1j"
      }
    },
    {
      "cell_type": "code",
      "source": [
        "import torch\n",
        "import numpy as np\n",
        "\n",
        "def top_k_accuracy_multilabel(output, target, topk=(1, 5)):\n",
        "    \"\"\"\n",
        "    Computes the accuracy over the k top predictions for multi-label classification\n",
        "    \"\"\"\n",
        "    with torch.no_grad():\n",
        "        maxk = max(topk)\n",
        "        batch_size = target.size(0)\n",
        "\n",
        "        # Get the top k predictions for each sample\n",
        "        _, pred = output.topk(maxk, 1, True, True)\n",
        "\n",
        "        # Convert target to list of true label indices for each sample\n",
        "        true_labels = [\n",
        "            (target[i] == 1).nonzero(as_tuple=False).squeeze().tolist()\n",
        "            for i in range(batch_size)\n",
        "        ]\n",
        "\n",
        "        # Ensure true_labels are always lists\n",
        "        true_labels = [\n",
        "            [label] if isinstance(label, int) else label\n",
        "            for label in true_labels\n",
        "        ]\n",
        "\n",
        "        res = []\n",
        "        for k in topk:\n",
        "            correct_k = sum(\n",
        "                any(label in pred[i][:k].tolist() for label in sample_labels)\n",
        "                for i, sample_labels in enumerate(true_labels)\n",
        "            )\n",
        "            res.append(correct_k * (100.0 / batch_size))\n",
        "        return res\n",
        "\n",
        "# Assuming all_predictions and all_labels are numpy arrays\n",
        "all_predictions = np.array(all_predictions)\n",
        "all_labels = np.array(all_labels)\n",
        "\n",
        "# Convert numpy arrays to torch tensors\n",
        "all_predictions_tensor = torch.from_numpy(all_predictions)\n",
        "all_labels_tensor = torch.from_numpy(all_labels)\n",
        "\n",
        "# Calculate Top-1 and Top-5 accuracy\n",
        "top1_accuracy, top5_accuracy = top_k_accuracy_multilabel(all_predictions_tensor, all_labels_tensor, topk=(1, 5))\n",
        "\n",
        "print(f\"Top-1 Accuracy: {top1_accuracy:.2f}%\")\n",
        "print(f\"Top-5 Accuracy: {top5_accuracy:.2f}%\")"
      ],
      "metadata": {
        "colab": {
          "base_uri": "https://localhost:8080/"
        },
        "id": "dINHeKA3XbVu",
        "outputId": "2c86202e-fce9-4b1d-8f13-e1aed9655877"
      },
      "execution_count": 62,
      "outputs": [
        {
          "output_type": "stream",
          "name": "stdout",
          "text": [
            "Top-1 Accuracy: 85.02%\n",
            "Top-5 Accuracy: 100.00%\n"
          ]
        }
      ]
    },
    {
      "cell_type": "markdown",
      "source": [
        "#Classification report:\n"
      ],
      "metadata": {
        "id": "YJrbizz-YL14"
      }
    },
    {
      "cell_type": "code",
      "source": [
        "from sklearn.metrics import classification_report\n",
        "\n",
        "\n",
        "# Convert predictions to binary values based on a threshold (e.g., 0.5)\n",
        "threshold = 0.5\n",
        "all_predictions_binary = np.array(all_predictions) > threshold\n",
        "\n",
        "all_labels = np.array(all_labels)\n",
        "\n",
        "# Print classification report\n",
        "report = classification_report(np.array(all_labels), all_predictions_binary, target_names=class_names)\n",
        "print(report)"
      ],
      "metadata": {
        "colab": {
          "base_uri": "https://localhost:8080/"
        },
        "id": "JyAy-EdiYau0",
        "outputId": "43d4ddd2-7f39-49c4-dce9-b1f3b2bdd812"
      },
      "execution_count": 63,
      "outputs": [
        {
          "output_type": "stream",
          "name": "stdout",
          "text": [
            "                 precision    recall  f1-score   support\n",
            "\n",
            "        Actinic       0.57      1.00      0.72        51\n",
            "         Atopic       1.00      1.00      1.00        45\n",
            "         Benign       0.88      1.00      0.93        56\n",
            "    Candidiasis       0.98      1.00      0.99        60\n",
            "     Dermatitis       1.00      1.00      1.00        45\n",
            " Dermatofibroma       0.68      1.00      0.81        54\n",
            "    Melanocytic       0.65      1.00      0.79        39\n",
            "       Melanoma       0.58      1.00      0.73        44\n",
            "       Ringworm       0.98      1.00      0.99        60\n",
            "       Squamous       0.63      1.00      0.77        54\n",
            "          Tinea       0.98      1.00      0.99        60\n",
            "       Vascular       0.86      1.00      0.93        51\n",
            "      carcinoma       0.64      1.00      0.78        54\n",
            "           cell       0.61      1.00      0.76        54\n",
            "      keratosis       0.99      1.00      1.00       107\n",
            "         lesion       0.84      1.00      0.91        51\n",
            "          nevus       0.63      1.00      0.77        39\n",
            "\n",
            "      micro avg       0.78      1.00      0.87       924\n",
            "      macro avg       0.79      1.00      0.88       924\n",
            "   weighted avg       0.81      1.00      0.89       924\n",
            "    samples avg       0.83      1.00      0.89       924\n",
            "\n"
          ]
        }
      ]
    }
  ]
}